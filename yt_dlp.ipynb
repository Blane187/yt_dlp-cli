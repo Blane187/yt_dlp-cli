{
  "nbformat": 4,
  "nbformat_minor": 0,
  "metadata": {
    "colab": {
      "provenance": [],
      "authorship_tag": "ABX9TyNoFwT9IH8VZuc0gI8gn4zk",
      "include_colab_link": true
    },
    "kernelspec": {
      "name": "python3",
      "display_name": "Python 3"
    },
    "language_info": {
      "name": "python"
    }
  },
  "cells": [
    {
      "cell_type": "markdown",
      "metadata": {
        "id": "view-in-github",
        "colab_type": "text"
      },
      "source": [
        "<a href=\"https://colab.research.google.com/github/Blane187/yt_dlp-cli/blob/main/yt_dlp.ipynb\" target=\"_parent\"><img src=\"https://colab.research.google.com/assets/colab-badge.svg\" alt=\"Open In Colab\"/></a>"
      ]
    },
    {
      "cell_type": "code",
      "execution_count": null,
      "metadata": {
        "cellView": "form",
        "id": "3oq98qpJzSId"
      },
      "outputs": [],
      "source": [
        "\n",
        "\n",
        "#@title install\n",
        "\n",
        "!git clone https://github.com/Blane187/yt_dlp-cli.git yt_dlp\n",
        "\n",
        "%cd yt_dlp\n",
        "\n",
        "!pip install yt_dlp\n",
        "\n",
        "!mkdir -p audios\n",
        "\n",
        "from IPython.display import clear_output\n",
        "clear_output()"
      ]
    },
    {
      "cell_type": "code",
      "source": [
        "\n",
        "#@markdown ###run yt_dlp\n",
        "\n",
        "import os\n",
        "\n",
        "\n",
        "video_url = \"https://youtu.be/3qFvCPmee8U?si=j4JdF97wL_4gTJY4\" #@param {type:\"string\"}\n",
        "save_folder = \"/content/yt_dlp/audios\" #@param {type:\"string\"}\n",
        "audio_file_name = \"Godzilla\" #@param {type:\"string\"}\n",
        "\n",
        "audio_format = \"wav\" #@param [\"wav\", \"mp3\", \"flac\"]\n",
        "\n",
        "!python /content/yt_dlp/downloader.py -url $video_url -sv_fl $save_folder -ad_fr $audio_format -name_ad $audio_file_name"
      ],
      "metadata": {
        "cellView": "form",
        "id": "2f6Qk2W60TMJ"
      },
      "execution_count": null,
      "outputs": []
    },
    {
      "cell_type": "code",
      "source": [
        " #@title  play your audio output\n",
        "import IPython.display as ipd\n",
        "\n",
        "audio_file_path = \"/content/yt_dlp/audios/Godzilla.wav\" #@param {type:\"string\"}\n",
        "\n",
        "\n",
        "ipd.Audio(audio_file_path)"
      ],
      "metadata": {
        "cellView": "form",
        "id": "VzhrM31M4tyy"
      },
      "execution_count": null,
      "outputs": []
    }
  ]
}